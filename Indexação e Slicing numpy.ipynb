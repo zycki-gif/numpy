{
 "cells": [
  {
   "cell_type": "code",
   "execution_count": 2,
   "id": "f716b0b6",
   "metadata": {},
   "outputs": [],
   "source": [
    "import numpy as np"
   ]
  },
  {
   "cell_type": "code",
   "execution_count": 3,
   "id": "d52621d0",
   "metadata": {},
   "outputs": [
    {
     "name": "stdout",
     "output_type": "stream",
     "text": [
      "x:  [ 10.  20.  30.  40.  50.  60.  70.  80.  90. 100.]\n",
      "shape:  (10,)\n"
     ]
    }
   ],
   "source": [
    "x=np.linspace(start=10,stop=100,num=10)\n",
    "print('x: ',x)\n",
    "print('shape: ',x.shape)"
   ]
  },
  {
   "cell_type": "code",
   "execution_count": 4,
   "id": "f2cae820",
   "metadata": {},
   "outputs": [
    {
     "name": "stdout",
     "output_type": "stream",
     "text": [
      "x:  [ 10.  20.  30.  40.  50.  60.  70.  80.  90. 100.]\n",
      "Primeiro elemento 10.0\n",
      "Segundo elemento 20.0\n",
      "Ultimo elemento 100.0\n",
      "Ultimo elemento  100.0\n"
     ]
    }
   ],
   "source": [
    "#extração de elementos\n",
    "print('x: ',x)\n",
    "print('Primeiro elemento',x[0])\n",
    "print('Segundo elemento',x[1])\n",
    "print('Ultimo elemento',x[9])\n",
    "print('Ultimo elemento ',x[-1])"
   ]
  },
  {
   "cell_type": "code",
   "execution_count": 6,
   "id": "a595bdb2",
   "metadata": {},
   "outputs": [
    {
     "name": "stdout",
     "output_type": "stream",
     "text": [
      "x:  [ 10.  20.  30.  40.  50.  60.  70.  80.  90. 100.]\n",
      "Dois primeiros elementos:  [10. 20.]\n",
      "Dois primeiros elementos:  [10. 20.]\n",
      "Dois ultimos elementos: [ 90. 100.]\n"
     ]
    }
   ],
   "source": [
    "#slicing\n",
    "print('x: ',x)\n",
    "print('Dois primeiros elementos: ', x[0:2])\n",
    "print('Dois primeiros elementos: ',x[:2])\n",
    "print('Dois ultimos elementos:',x[-2:])"
   ]
  },
  {
   "cell_type": "code",
   "execution_count": 7,
   "id": "3a7c7150",
   "metadata": {},
   "outputs": [
    {
     "name": "stdout",
     "output_type": "stream",
     "text": [
      "x:  [[ 10.  20.  30.  40.  50.]\n",
      " [ 60.  70.  80.  90. 100.]]\n"
     ]
    }
   ],
   "source": [
    "#slicing em arrays 2d\n",
    "x=x.reshape(2,5)\n",
    "print('x: ',x)"
   ]
  },
  {
   "cell_type": "code",
   "execution_count": 10,
   "id": "f411946b",
   "metadata": {},
   "outputs": [
    {
     "name": "stdout",
     "output_type": "stream",
     "text": [
      "x:  [[ 10.  20.  30.  40.  50.]\n",
      " [ 60.  70.  80.  90. 100.]]\n",
      "Primeira linha e segunda coluna:  20.0\n",
      "segunda linha e penultima coluna:  90.0\n",
      "Ultima linha e ultima coluna:  100.0\n"
     ]
    }
   ],
   "source": [
    "#extração de elementos\n",
    "print('x: ',x)\n",
    "print('Primeira linha e segunda coluna: ', x[0,1])\n",
    "print('segunda linha e penultima coluna: ', x[1,-2])\n",
    "print('Ultima linha e ultima coluna: ', x[-1,-1])"
   ]
  },
  {
   "cell_type": "code",
   "execution_count": 13,
   "id": "fa123f18",
   "metadata": {},
   "outputs": [
    {
     "name": "stdout",
     "output_type": "stream",
     "text": [
      "primeira linha inteira [10. 20. 30. 40. 50.]\n",
      "primeira linha, segunda a quarta coluna, [20. 30. 40.]\n",
      "ultima coluna inteira [[ 50.]\n",
      " [100.]]\n"
     ]
    }
   ],
   "source": [
    "#slicing: extração de subarrays\n",
    "print('primeira linha inteira',x[0, :])\n",
    "print('primeira linha, segunda a quarta coluna,', x[0, 1:4])\n",
    "print('ultima coluna inteira',x[ :,[-1]])"
   ]
  },
  {
   "cell_type": "code",
   "execution_count": 41,
   "id": "9c95c3b4",
   "metadata": {},
   "outputs": [
    {
     "name": "stdout",
     "output_type": "stream",
     "text": [
      "x antes:  [1 2 3]\n",
      "[-100    2    3]\n"
     ]
    }
   ],
   "source": [
    "#slicing compartilha memoria\n",
    "x=np.array([1,2,3])\n",
    "print('x antes: ',x)\n",
    "y=x[:2]\n",
    "y[0]=-100\n",
    "print(x)"
   ]
  },
  {
   "cell_type": "code",
   "execution_count": 43,
   "id": "035187a7",
   "metadata": {},
   "outputs": [
    {
     "name": "stdout",
     "output_type": "stream",
     "text": [
      "x antes:  [1 2 3]\n",
      "[1 2 3]\n",
      "[-100    2]\n"
     ]
    }
   ],
   "source": [
    "#comando copy\n",
    "x=np.array([1,2,3])\n",
    "print('x antes: ',x)\n",
    "y=x[:2].copy()\n",
    "y[0]=-100\n",
    "print(x)\n",
    "print(y)"
   ]
  }
 ],
 "metadata": {
  "kernelspec": {
   "display_name": "Python 3",
   "language": "python",
   "name": "python3"
  },
  "language_info": {
   "codemirror_mode": {
    "name": "ipython",
    "version": 3
   },
   "file_extension": ".py",
   "mimetype": "text/x-python",
   "name": "python",
   "nbconvert_exporter": "python",
   "pygments_lexer": "ipython3",
   "version": "3.8.8"
  }
 },
 "nbformat": 4,
 "nbformat_minor": 5
}
