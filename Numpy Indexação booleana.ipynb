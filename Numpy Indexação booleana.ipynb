{
 "cells": [
  {
   "cell_type": "code",
   "execution_count": 2,
   "id": "02c3c8d9",
   "metadata": {},
   "outputs": [],
   "source": [
    "import numpy as np"
   ]
  },
  {
   "cell_type": "code",
   "execution_count": 3,
   "id": "f600dc0e",
   "metadata": {},
   "outputs": [
    {
     "name": "stdout",
     "output_type": "stream",
     "text": [
      "x: \n",
      " [[1 2]\n",
      " [3 4]]\n",
      "y: \n",
      " [1.5 3.5]\n"
     ]
    }
   ],
   "source": [
    "x=np.array([[1,2],[3,4]])\n",
    "y=np.array([1.5,3.5])\n",
    "print('x: \\n',x)\n",
    "print('y: \\n',y)"
   ]
  },
  {
   "cell_type": "code",
   "execution_count": 7,
   "id": "e512c67c",
   "metadata": {},
   "outputs": [
    {
     "name": "stdout",
     "output_type": "stream",
     "text": [
      "print x<y:  [[False False]\n",
      " [ True  True]]\n",
      "print x<2:  [[ True False]\n",
      " [False False]]\n"
     ]
    }
   ],
   "source": [
    "print('print x<y: ',x>y)#broadcasting\n",
    "print('print x<2: ',x<2)"
   ]
  },
  {
   "cell_type": "code",
   "execution_count": 8,
   "id": "449dbc73",
   "metadata": {},
   "outputs": [
    {
     "name": "stdout",
     "output_type": "stream",
     "text": [
      "x: \n",
      " [[ 1  3  7]\n",
      " [ 4 11 21]\n",
      " [42  9  8]]\n"
     ]
    }
   ],
   "source": [
    "#indexação booleana\n",
    "x=np.array([[1,3,7],\n",
    "           [4,11,21],\n",
    "           [42,9,8]])\n",
    "print('x: \\n',x)"
   ]
  },
  {
   "cell_type": "code",
   "execution_count": 9,
   "id": "b655ca1a",
   "metadata": {},
   "outputs": [
    {
     "name": "stdout",
     "output_type": "stream",
     "text": [
      "condição:  [[False False False]\n",
      " [False  True  True]\n",
      " [ True False False]]\n",
      "elementos maiores que 10 : [11 21 42]\n",
      "numero de elementos maiores que 10:  3\n"
     ]
    }
   ],
   "source": [
    "#filtro\n",
    "k=10\n",
    "cond=x>k\n",
    "print('condição: ',cond)\n",
    "print(f'elementos maiores que {k} :',x[cond])\n",
    "print(f'numero de elementos maiores que {k}: ',len(x[cond]))"
   ]
  },
  {
   "cell_type": "code",
   "execution_count": 10,
   "id": "a082e3c9",
   "metadata": {},
   "outputs": [
    {
     "name": "stdout",
     "output_type": "stream",
     "text": [
      "condição:  [[False False False]\n",
      " [ True False False]\n",
      " [ True False  True]]\n",
      "numeros pares:  [ 4 42  8]\n"
     ]
    }
   ],
   "source": [
    "cond=x%2==0\n",
    "print('condição: ',cond)\n",
    "print('numeros pares: ',x[cond])"
   ]
  },
  {
   "cell_type": "code",
   "execution_count": null,
   "id": "987485b4",
   "metadata": {},
   "outputs": [],
   "source": []
  },
  {
   "cell_type": "code",
   "execution_count": null,
   "id": "91153aea",
   "metadata": {},
   "outputs": [],
   "source": []
  }
 ],
 "metadata": {
  "kernelspec": {
   "display_name": "Python 3",
   "language": "python",
   "name": "python3"
  },
  "language_info": {
   "codemirror_mode": {
    "name": "ipython",
    "version": 3
   },
   "file_extension": ".py",
   "mimetype": "text/x-python",
   "name": "python",
   "nbconvert_exporter": "python",
   "pygments_lexer": "ipython3",
   "version": "3.8.8"
  }
 },
 "nbformat": 4,
 "nbformat_minor": 5
}
