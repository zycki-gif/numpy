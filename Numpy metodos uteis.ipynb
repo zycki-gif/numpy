{
 "cells": [
  {
   "cell_type": "code",
   "execution_count": 1,
   "id": "16869f77",
   "metadata": {},
   "outputs": [],
   "source": [
    "import numpy as np"
   ]
  },
  {
   "cell_type": "code",
   "execution_count": 2,
   "id": "0de187bf",
   "metadata": {},
   "outputs": [
    {
     "name": "stdout",
     "output_type": "stream",
     "text": [
      "x:  [[ 1  3  7]\n",
      " [ 4 11 21]\n",
      " [42  8  9]]\n"
     ]
    }
   ],
   "source": [
    "x=np.array([[1,3,7],[4,11,21],[42,8,9]])\n",
    "print('x: ',x)"
   ]
  },
  {
   "cell_type": "code",
   "execution_count": 3,
   "id": "f3f340d5",
   "metadata": {
    "collapsed": true
   },
   "outputs": [
    {
     "name": "stdout",
     "output_type": "stream",
     "text": [
      "[[ 1]\n",
      " [ 3]\n",
      " [ 7]\n",
      " [ 4]\n",
      " [11]\n",
      " [21]\n",
      " [42]\n",
      " [ 8]\n",
      " [ 9]]\n"
     ]
    }
   ],
   "source": [
    "#reshape transforma a matriz em um vetor coluna\n",
    "print(x.reshape(9,1))"
   ]
  },
  {
   "cell_type": "code",
   "execution_count": 4,
   "id": "f17d3c35",
   "metadata": {
    "collapsed": true
   },
   "outputs": [
    {
     "name": "stdout",
     "output_type": "stream",
     "text": [
      "x transposta:  [[ 1  4 42]\n",
      " [ 3 11  8]\n",
      " [ 7 21  9]]\n"
     ]
    }
   ],
   "source": [
    "#transposição de matriz\n",
    "print('x transposta: ',x.T)"
   ]
  },
  {
   "cell_type": "code",
   "execution_count": 6,
   "id": "3421b2aa",
   "metadata": {},
   "outputs": [
    {
     "name": "stdout",
     "output_type": "stream",
     "text": [
      "106\n",
      "[47 22 37]\n",
      "[11 36 59]\n"
     ]
    }
   ],
   "source": [
    "#np.sum: soma em um dado eixo, axis=0 linha, axis=1 coluna\n",
    "print(np.sum(x))\n",
    "print(np.sum(x,axis=0))\n",
    "print(np.sum(x,axis=1))"
   ]
  },
  {
   "cell_type": "code",
   "execution_count": 7,
   "id": "f6ca2f4c",
   "metadata": {},
   "outputs": [
    {
     "name": "stdout",
     "output_type": "stream",
     "text": [
      "11.777777777777779\n",
      "[15.66666667  7.33333333 12.33333333]\n",
      "[ 3.66666667 12.         19.66666667]\n"
     ]
    }
   ],
   "source": [
    "#np.mean: media de um dado eixo\n",
    "print(np.mean(x))\n",
    "print(np.mean(x,axis=0))\n",
    "print(np.mean(x,axis=1))"
   ]
  },
  {
   "cell_type": "code",
   "execution_count": 10,
   "id": "9ba6fce6",
   "metadata": {},
   "outputs": [
    {
     "name": "stdout",
     "output_type": "stream",
     "text": [
      "[[False False False]\n",
      " [ True False False]\n",
      " [ True  True False]]\n",
      "indice i: linhas:  [1 2 2]\n",
      "indice j: colunas: [0 0 1]\n",
      "3\n"
     ]
    }
   ],
   "source": [
    "#np.where, identificação dos indices onde uma dada condição é atendida\n",
    "cond=x%2==0\n",
    "print(cond)\n",
    "i,j=np.where(cond)\n",
    "print('indice i: linhas: ',i)\n",
    "print('indice j: colunas:',j)\n",
    "print(len(x[cond]))"
   ]
  },
  {
   "cell_type": "code",
   "execution_count": 12,
   "id": "291106b9",
   "metadata": {},
   "outputs": [
    {
     "name": "stdout",
     "output_type": "stream",
     "text": [
      "[[False False False]\n",
      " [ True False False]\n",
      " [ True  True False]]\n",
      "[1 2]\n",
      "[[ 4 11 21]\n",
      " [42  8  9]]\n"
     ]
    }
   ],
   "source": [
    "cond=x%2==0\n",
    "print(cond)\n",
    "i_row=np.where(np.sum(cond,axis=1))[0]\n",
    "print(i_row)\n",
    "print(x[i_row, :])"
   ]
  },
  {
   "cell_type": "code",
   "execution_count": null,
   "id": "586e0eb0",
   "metadata": {},
   "outputs": [],
   "source": []
  },
  {
   "cell_type": "code",
   "execution_count": null,
   "id": "ab6887b8",
   "metadata": {},
   "outputs": [],
   "source": []
  },
  {
   "cell_type": "code",
   "execution_count": null,
   "id": "72f606d8",
   "metadata": {},
   "outputs": [],
   "source": []
  },
  {
   "cell_type": "code",
   "execution_count": null,
   "id": "ad51ba42",
   "metadata": {},
   "outputs": [],
   "source": []
  },
  {
   "cell_type": "code",
   "execution_count": null,
   "id": "0f2bff8d",
   "metadata": {},
   "outputs": [],
   "source": []
  },
  {
   "cell_type": "code",
   "execution_count": null,
   "id": "c5ffdd03",
   "metadata": {},
   "outputs": [],
   "source": []
  }
 ],
 "metadata": {
  "kernelspec": {
   "display_name": "Python 3",
   "language": "python",
   "name": "python3"
  },
  "language_info": {
   "codemirror_mode": {
    "name": "ipython",
    "version": 3
   },
   "file_extension": ".py",
   "mimetype": "text/x-python",
   "name": "python",
   "nbconvert_exporter": "python",
   "pygments_lexer": "ipython3",
   "version": "3.8.8"
  }
 },
 "nbformat": 4,
 "nbformat_minor": 5
}
