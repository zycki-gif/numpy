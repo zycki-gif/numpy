{
 "cells": [
  {
   "cell_type": "code",
   "execution_count": 2,
   "id": "11eaade9",
   "metadata": {},
   "outputs": [],
   "source": [
    "import numpy as np"
   ]
  },
  {
   "cell_type": "code",
   "execution_count": 25,
   "id": "f06cf818",
   "metadata": {},
   "outputs": [
    {
     "name": "stdout",
     "output_type": "stream",
     "text": [
      "x=   [[1. 1.]\n",
      " [1. 1.]]\n",
      "y=   [[1. 0.]\n",
      " [0. 1.]]\n"
     ]
    }
   ],
   "source": [
    "x=np.ones((2,2))\n",
    "y=np.eye(2)\n",
    "print('x=  ',x)\n",
    "print('y=  ',y)"
   ]
  },
  {
   "cell_type": "code",
   "execution_count": 6,
   "id": "9c176ddb",
   "metadata": {},
   "outputs": [
    {
     "name": "stdout",
     "output_type": "stream",
     "text": [
      "soma de dois arrays:  [[2. 1.]\n",
      " [1. 2.]]\n",
      "soma com float/int:   [[3. 3.]\n",
      " [3. 3.]]\n"
     ]
    }
   ],
   "source": [
    "print('soma de dois arrays: ',x+y)\n",
    "print('soma com float/int:  ',x+2)#broadcasting"
   ]
  },
  {
   "cell_type": "code",
   "execution_count": 8,
   "id": "35adf34f",
   "metadata": {},
   "outputs": [
    {
     "name": "stdout",
     "output_type": "stream",
     "text": [
      "subtração de dois arrays:  [[0. 1.]\n",
      " [1. 0.]]\n",
      "subtração com float/int :  [[-1. -1.]\n",
      " [-1. -1.]]\n"
     ]
    }
   ],
   "source": [
    "print('subtração de dois arrays: ',x-y)\n",
    "print('subtração com float/int : ',x-2)#broadcasting"
   ]
  },
  {
   "cell_type": "code",
   "execution_count": 9,
   "id": "56872d93",
   "metadata": {},
   "outputs": [
    {
     "name": "stdout",
     "output_type": "stream",
     "text": [
      "divisao de dois arrays \n",
      " [[ 1. inf]\n",
      " [inf  1.]]\n",
      "divisao com float/int \n",
      " [[0.5 0.5]\n",
      " [0.5 0.5]]\n"
     ]
    },
    {
     "name": "stderr",
     "output_type": "stream",
     "text": [
      "<ipython-input-9-63a275b94698>:1: RuntimeWarning: divide by zero encountered in true_divide\n",
      "  print('divisao de dois arrays \\n',x/y)\n"
     ]
    }
   ],
   "source": [
    "print('divisao de dois arrays \\n',x/y)\n",
    "print('divisao com float/int \\n',x/2)#broadcasting"
   ]
  },
  {
   "cell_type": "code",
   "execution_count": 10,
   "id": "74dc5568",
   "metadata": {},
   "outputs": [
    {
     "ename": "ValueError",
     "evalue": "operands could not be broadcast together with shapes (3,) (2,) ",
     "output_type": "error",
     "traceback": [
      "\u001b[1;31m---------------------------------------------------------------------------\u001b[0m",
      "\u001b[1;31mValueError\u001b[0m                                Traceback (most recent call last)",
      "\u001b[1;32m<ipython-input-10-2d4ed8475923>\u001b[0m in \u001b[0;36m<module>\u001b[1;34m\u001b[0m\n\u001b[0;32m      1\u001b[0m \u001b[1;31m#quando o broadcasting nao funciona\u001b[0m\u001b[1;33m\u001b[0m\u001b[1;33m\u001b[0m\u001b[1;33m\u001b[0m\u001b[0m\n\u001b[1;32m----> 2\u001b[1;33m \u001b[0mnp\u001b[0m\u001b[1;33m.\u001b[0m\u001b[0marray\u001b[0m\u001b[1;33m(\u001b[0m\u001b[1;33m[\u001b[0m\u001b[1;36m1\u001b[0m\u001b[1;33m,\u001b[0m\u001b[1;36m2\u001b[0m\u001b[1;33m,\u001b[0m\u001b[1;36m3\u001b[0m\u001b[1;33m]\u001b[0m\u001b[1;33m)\u001b[0m\u001b[1;33m+\u001b[0m\u001b[0mnp\u001b[0m\u001b[1;33m.\u001b[0m\u001b[0marray\u001b[0m\u001b[1;33m(\u001b[0m\u001b[1;33m[\u001b[0m\u001b[1;36m1\u001b[0m\u001b[1;33m,\u001b[0m\u001b[1;36m2\u001b[0m\u001b[1;33m]\u001b[0m\u001b[1;33m)\u001b[0m\u001b[1;33m\u001b[0m\u001b[1;33m\u001b[0m\u001b[0m\n\u001b[0m",
      "\u001b[1;31mValueError\u001b[0m: operands could not be broadcast together with shapes (3,) (2,) "
     ]
    }
   ],
   "source": [
    "#quando o broadcasting nao funciona\n",
    "np.array([1,2,3])+np.array([1,2])"
   ]
  },
  {
   "cell_type": "code",
   "execution_count": 11,
   "id": "29371f09",
   "metadata": {},
   "outputs": [
    {
     "name": "stdout",
     "output_type": "stream",
     "text": [
      "combinação de operações: \n",
      " [[-2. -1.]\n",
      " [-1. -2.]]\n"
     ]
    }
   ],
   "source": [
    "#combinação de operações\n",
    "print('combinação de operações: \\n',(x+y)/(x-2))"
   ]
  },
  {
   "cell_type": "markdown",
   "id": "7c99d5e4",
   "metadata": {},
   "source": [
    "#multiplicação\n",
    "print('multiplicação de arrays: \\n',x*y)\n",
    "print('multiplicação usando float/int: \\n',x*2)"
   ]
  },
  {
   "cell_type": "code",
   "execution_count": 13,
   "id": "b535050d",
   "metadata": {},
   "outputs": [
    {
     "name": "stdout",
     "output_type": "stream",
     "text": [
      "multiplicação de arrays: \n",
      " [[1. 0.]\n",
      " [0. 1.]]\n",
      "multiplicação usando float/int: \n",
      " [[2. 2.]\n",
      " [2. 2.]]\n"
     ]
    }
   ],
   "source": [
    "#multiplicação\n",
    "print('multiplicação de arrays: \\n',x*y)\n",
    "print('multiplicação usando float/int: \\n',x*2)"
   ]
  },
  {
   "cell_type": "code",
   "execution_count": 14,
   "id": "732f40c3",
   "metadata": {},
   "outputs": [
    {
     "name": "stdout",
     "output_type": "stream",
     "text": [
      "multiplicação matricial usando (np.dot): \n",
      " [[1. 1.]\n",
      " [1. 1.]]\n",
      "multiplicação matricial usando @: \n",
      " [[1. 1.]\n",
      " [1. 1.]]\n",
      "multiplicação matricial usando (x.dot(y)): \n",
      " [[1. 1.]\n",
      " [1. 1.]]\n"
     ]
    }
   ],
   "source": [
    "#multiplicação matricial\n",
    "print('multiplicação matricial usando (np.dot): \\n',np.dot(x,y))\n",
    "print('multiplicação matricial usando @: \\n', x@y)\n",
    "print('multiplicação matricial usando (x.dot(y)): \\n', x.dot(y))"
   ]
  },
  {
   "cell_type": "code",
   "execution_count": 24,
   "id": "5d03c2b5",
   "metadata": {},
   "outputs": [
    {
     "name": "stdout",
     "output_type": "stream",
     "text": [
      "a,b = : [-1.  4.]\n"
     ]
    }
   ],
   "source": [
    "'''\n",
    "Solução de um sistema de equações:\n",
    "a+2*b=7\n",
    "3*a-2*n=-11\n",
    "Ax=c, onde:\n",
    "x=[a,b]\n",
    "a=[1,2], [3,-2]\n",
    "c=[7,-11]\n",
    "solução númerica = x=inv(a).c,\n",
    "'''\n",
    "a=np.array([[1,2],[3,-2]])\n",
    "c=np.array([[7],[-11]])\n",
    "x=np.dot(np.linalg.inv(a),c)\n",
    "print('a,b = :',x.ravel())"
   ]
  },
  {
   "cell_type": "code",
   "execution_count": null,
   "id": "4d59c5d7",
   "metadata": {},
   "outputs": [],
   "source": []
  }
 ],
 "metadata": {
  "kernelspec": {
   "display_name": "Python 3",
   "language": "python",
   "name": "python3"
  },
  "language_info": {
   "codemirror_mode": {
    "name": "ipython",
    "version": 3
   },
   "file_extension": ".py",
   "mimetype": "text/x-python",
   "name": "python",
   "nbconvert_exporter": "python",
   "pygments_lexer": "ipython3",
   "version": "3.8.8"
  }
 },
 "nbformat": 4,
 "nbformat_minor": 5
}
