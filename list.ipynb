{
 "cells": [
  {
   "cell_type": "code",
   "execution_count": 1,
   "id": "7aa7c2e2",
   "metadata": {},
   "outputs": [],
   "source": [
    "frutas=['banana','abacate','tomate','maca','caju','melancia']\n",
    "saldo_alunos=[500.00,1200.00,1000.00,600.00,50000.00]\n",
    "num_pacientes=[25,36,45,22,33,89]"
   ]
  },
  {
   "cell_type": "code",
   "execution_count": 2,
   "id": "c61545fc",
   "metadata": {},
   "outputs": [
    {
     "name": "stdout",
     "output_type": "stream",
     "text": [
      "['banana', 'abacate', 'tomate', 'maca', 'caju', 'melancia']\n"
     ]
    }
   ],
   "source": [
    "print(frutas)"
   ]
  },
  {
   "cell_type": "code",
   "execution_count": 3,
   "id": "486ee699",
   "metadata": {},
   "outputs": [
    {
     "name": "stdout",
     "output_type": "stream",
     "text": [
      "[500.0, 1200.0, 1000.0, 600.0, 50000.0]\n"
     ]
    }
   ],
   "source": [
    "print(saldo_alunos)"
   ]
  },
  {
   "cell_type": "code",
   "execution_count": 4,
   "id": "78612bae",
   "metadata": {},
   "outputs": [
    {
     "name": "stdout",
     "output_type": "stream",
     "text": [
      "[25, 36, 45, 22, 33, 89]\n"
     ]
    }
   ],
   "source": [
    "print(num_pacientes)"
   ]
  },
  {
   "cell_type": "code",
   "execution_count": 5,
   "id": "d0a7b3dd",
   "metadata": {},
   "outputs": [],
   "source": [
    "frutas_dup=['banana','banana','tomate','tomate','caju','caju']"
   ]
  },
  {
   "cell_type": "code",
   "execution_count": 6,
   "id": "1629ace0",
   "metadata": {},
   "outputs": [
    {
     "name": "stdout",
     "output_type": "stream",
     "text": [
      "['banana', 'banana', 'tomate', 'tomate', 'caju', 'caju']\n"
     ]
    }
   ],
   "source": [
    "print(frutas_dup)"
   ]
  },
  {
   "cell_type": "code",
   "execution_count": 7,
   "id": "d68f08c5",
   "metadata": {},
   "outputs": [
    {
     "data": {
      "text/plain": [
       "5"
      ]
     },
     "execution_count": 7,
     "metadata": {},
     "output_type": "execute_result"
    }
   ],
   "source": [
    "len(saldo_alunos)"
   ]
  },
  {
   "cell_type": "code",
   "execution_count": 8,
   "id": "6a60a834",
   "metadata": {},
   "outputs": [
    {
     "name": "stdout",
     "output_type": "stream",
     "text": [
      "600.0\n"
     ]
    }
   ],
   "source": [
    "print(saldo_alunos[3])"
   ]
  },
  {
   "cell_type": "code",
   "execution_count": 9,
   "id": "dce61558",
   "metadata": {},
   "outputs": [],
   "source": [
    "frutas.append('morango')"
   ]
  },
  {
   "cell_type": "code",
   "execution_count": 10,
   "id": "1dcbec1c",
   "metadata": {},
   "outputs": [
    {
     "name": "stdout",
     "output_type": "stream",
     "text": [
      "['banana', 'abacate', 'tomate', 'maca', 'caju', 'melancia', 'morango']\n"
     ]
    }
   ],
   "source": [
    "print(frutas)"
   ]
  },
  {
   "cell_type": "code",
   "execution_count": 11,
   "id": "43bb7567",
   "metadata": {},
   "outputs": [],
   "source": [
    "saldo_alunos.extend(num_pacientes)"
   ]
  },
  {
   "cell_type": "code",
   "execution_count": 12,
   "id": "f7baa25a",
   "metadata": {},
   "outputs": [
    {
     "name": "stdout",
     "output_type": "stream",
     "text": [
      "[500.0, 1200.0, 1000.0, 600.0, 50000.0, 25, 36, 45, 22, 33, 89]\n"
     ]
    }
   ],
   "source": [
    "print(saldo_alunos)"
   ]
  },
  {
   "cell_type": "code",
   "execution_count": null,
   "id": "f532bb34",
   "metadata": {},
   "outputs": [],
   "source": []
  },
  {
   "cell_type": "code",
   "execution_count": null,
   "id": "de1a4d9f",
   "metadata": {},
   "outputs": [],
   "source": []
  },
  {
   "cell_type": "code",
   "execution_count": null,
   "id": "4abcfd0d",
   "metadata": {},
   "outputs": [],
   "source": []
  }
 ],
 "metadata": {
  "kernelspec": {
   "display_name": "Python 3",
   "language": "python",
   "name": "python3"
  },
  "language_info": {
   "codemirror_mode": {
    "name": "ipython",
    "version": 3
   },
   "file_extension": ".py",
   "mimetype": "text/x-python",
   "name": "python",
   "nbconvert_exporter": "python",
   "pygments_lexer": "ipython3",
   "version": "3.8.8"
  }
 },
 "nbformat": 4,
 "nbformat_minor": 5
}
