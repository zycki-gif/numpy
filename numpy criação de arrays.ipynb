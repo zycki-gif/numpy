{
 "cells": [
  {
   "cell_type": "code",
   "execution_count": 2,
   "id": "c2afa6de",
   "metadata": {},
   "outputs": [],
   "source": [
    "import numpy as np\n",
    "np.array?"
   ]
  },
  {
   "cell_type": "code",
   "execution_count": 3,
   "id": "341682ab",
   "metadata": {},
   "outputs": [
    {
     "name": "stdout",
     "output_type": "stream",
     "text": [
      "x =  [1 2 3]\n",
      "shape =  (3,)\n"
     ]
    }
   ],
   "source": [
    "#CRIANDO ARRAY 1D\n",
    "l=[1,2,3]\n",
    "x=np.array(l)\n",
    "print(\"x = \",x)\n",
    "print(\"shape = \", x.shape)"
   ]
  },
  {
   "cell_type": "code",
   "execution_count": 5,
   "id": "1ecdf327",
   "metadata": {},
   "outputs": [
    {
     "name": "stdout",
     "output_type": "stream",
     "text": [
      "x \n",
      " [[1 2 3]\n",
      " [4 5 6]]\n",
      "shape =  (2, 3)\n"
     ]
    }
   ],
   "source": [
    "#CRIANDO ARRAY 2D\n",
    "l=[[1,2,3],[4,5,6]]\n",
    "x=np.array(l)\n",
    "print(\"x \\n\",x)\n",
    "print(\"shape = \", x.shape)"
   ]
  },
  {
   "cell_type": "code",
   "execution_count": 7,
   "id": "1f81fffb",
   "metadata": {},
   "outputs": [
    {
     "name": "stdout",
     "output_type": "stream",
     "text": [
      "x \n",
      " [[1 2]\n",
      " [3 4]\n",
      " [5 6]]\n",
      "shape =  (3, 2)\n"
     ]
    }
   ],
   "source": [
    "#criando array 3d\n",
    "l=[[1,2],[3,4],[5,6]] \n",
    "x=np.array(l)\n",
    "print(\"x \\n\",x)\n",
    "print(\"shape = \",x.shape)"
   ]
  },
  {
   "cell_type": "code",
   "execution_count": 8,
   "id": "5ad11c51",
   "metadata": {},
   "outputs": [
    {
     "name": "stdout",
     "output_type": "stream",
     "text": [
      "x:  [[0. 0.]\n",
      " [0. 0.]\n",
      " [0. 0.]]\n",
      "shape =  (3, 2)\n"
     ]
    }
   ],
   "source": [
    "#criando arrays apenas co 0's\n",
    "dim=(3,2)\n",
    "x=np.zeros(dim)\n",
    "print(\"x: \",x)\n",
    "print(\"shape = \",x.shape)"
   ]
  },
  {
   "cell_type": "code",
   "execution_count": 9,
   "id": "1baeb983",
   "metadata": {},
   "outputs": [
    {
     "name": "stdout",
     "output_type": "stream",
     "text": [
      "x:  [[1. 1. 1.]\n",
      " [1. 1. 1.]\n",
      " [1. 1. 1.]]\n",
      "shape:  (3, 3)\n"
     ]
    }
   ],
   "source": [
    "#criando arrays apenas com 1's\n",
    "dum=(3,3)\n",
    "x=np.ones(dum)\n",
    "print(\"x: \",x)\n",
    "print(\"shape: \",x.shape)"
   ]
  },
  {
   "cell_type": "code",
   "execution_count": 14,
   "id": "bf6f8e64",
   "metadata": {},
   "outputs": [],
   "source": [
    "np.linspace?"
   ]
  },
  {
   "cell_type": "code",
   "execution_count": 15,
   "id": "957365ce",
   "metadata": {},
   "outputs": [
    {
     "name": "stdout",
     "output_type": "stream",
     "text": [
      "x = [ 5.  7.  9. 11. 13. 15.]\n",
      "shape:  (6,)\n"
     ]
    }
   ],
   "source": [
    "#criando valores dentro de um intervalo\n",
    "x_min,x_max=5,15\n",
    "x=np.linspace(start=x_min,stop=x_max,num=6)\n",
    "print(\"x =\",x)\n",
    "print(\"shape: \",x.shape)"
   ]
  },
  {
   "cell_type": "code",
   "execution_count": 16,
   "id": "0b1fd714",
   "metadata": {},
   "outputs": [
    {
     "name": "stdout",
     "output_type": "stream",
     "text": [
      "x:  [[1. 0. 0. 0.]\n",
      " [0. 1. 0. 0.]\n",
      " [0. 0. 1. 0.]\n",
      " [0. 0. 0. 1.]]\n",
      "shape:  (4, 4)\n"
     ]
    }
   ],
   "source": [
    "#criação da matriz identidade\n",
    "n=4\n",
    "x=np.eye(n)\n",
    "print(\"x: \",x)\n",
    "print(\"shape: \",x.shape)"
   ]
  },
  {
   "cell_type": "code",
   "execution_count": 17,
   "id": "670a293b",
   "metadata": {},
   "outputs": [
    {
     "name": "stdout",
     "output_type": "stream",
     "text": [
      "x:  [[0.89289992 0.27269272 0.10125331]\n",
      " [0.40561069 0.8045153  0.86326138]]\n",
      "shape:  (2, 3)\n"
     ]
    }
   ],
   "source": [
    "#criação de valores aleatorios\n",
    "#np.random.seed(10)\n",
    "x=np.random.random(size=(2,3))\n",
    "print(\"x: \",x)\n",
    "print(\"shape: \",x.shape)"
   ]
  },
  {
   "cell_type": "code",
   "execution_count": null,
   "id": "08ed60fa",
   "metadata": {},
   "outputs": [],
   "source": []
  }
 ],
 "metadata": {
  "kernelspec": {
   "display_name": "Python 3",
   "language": "python",
   "name": "python3"
  },
  "language_info": {
   "codemirror_mode": {
    "name": "ipython",
    "version": 3
   },
   "file_extension": ".py",
   "mimetype": "text/x-python",
   "name": "python",
   "nbconvert_exporter": "python",
   "pygments_lexer": "ipython3",
   "version": "3.8.8"
  }
 },
 "nbformat": 4,
 "nbformat_minor": 5
}
